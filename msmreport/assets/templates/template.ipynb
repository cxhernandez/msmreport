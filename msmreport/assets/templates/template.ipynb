{
 "cells": [
  {
   "cell_type": "markdown",
   "metadata": {},
   "source": [
    "# Osprey Report\n",
    "---"
   ]
  },
  {
   "cell_type": "markdown",
   "metadata": {},
   "source": [
    "### Imports and convenience functions"
   ]
  },
  {
   "cell_type": "code",
   "execution_count": null,
   "metadata": {
    "collapsed": false
   },
   "outputs": [],
   "source": [
    "get_ipython().magic('pylab inline')\n",
    "matplotlib.rcParams['figure.dpi'] = 600\n",
    "\n",
    "import seaborn as sns\n",
    "import corner\n",
    "\n",
    "import json\n",
    "from StringIO import StringIO\n",
    "\n",
    "import numpy as np\n",
    "from pandas import DataFrame, Index\n",
    "from scipy.stats import gaussian_kde\n",
    "\n",
    "from osprey.config import Config\n",
    "from msmbuilder.msm import BayesianMarkovStateModel\n",
    "\n",
    "from msmreport.utils import convert_keys_to_string\n",
    "from msmreport.plotting import plot_bars, plot_free_energy"
   ]
  },
  {
   "cell_type": "markdown",
   "metadata": {},
   "source": [
    "### Retrieve osprey settings"
   ]
  },
  {
   "cell_type": "code",
   "execution_count": null,
   "metadata": {
    "collapsed": false
   },
   "outputs": [],
   "source": [
    "config = Config({yaml})\n",
    "ss = config.search_space()"
   ]
  },
  {
   "cell_type": "markdown",
   "metadata": {},
   "source": [
    "### Retrieve optimal model parameters"
   ]
  },
  {
   "cell_type": "code",
   "execution_count": null,
   "metadata": {
    "collapsed": false
   },
   "outputs": [],
   "source": [
    "db = config.trials()\n",
    "cmd = 'select parameters from trials_v3 where mean_test_score = (select MAX(mean_test_score) from trials_v3);'\n",
    "query = db.execute(cmd)\n",
    "result = query.fetchall()\n",
    "params = convert_keys_to_string(json.load(StringIO(result[0][0])))\n",
    "DataFrame(np.array(params.values())[argsort(params.keys())], Index(sort(params.keys()))).T"
   ]
  },
  {
   "cell_type": "markdown",
   "metadata": {},
   "source": [
    "### Load data and model pipeline"
   ]
  },
  {
   "cell_type": "code",
   "execution_count": null,
   "metadata": {
    "collapsed": false
   },
   "outputs": [],
   "source": [
    "data, labels = config.dataset()\n",
    "\n",
    "pipeline = config.estimator()\n",
    "pipeline.set_params(**params)"
   ]
  },
  {
   "cell_type": "markdown",
   "metadata": {
    "collapsed": true
   },
   "source": [
    "### Fit model"
   ]
  },
  {
   "cell_type": "code",
   "execution_count": null,
   "metadata": {
    "collapsed": false
   },
   "outputs": [],
   "source": [
    "pipeline.fit(data)"
   ]
  },
  {
   "cell_type": "markdown",
   "metadata": {},
   "source": [
    "### tICA results"
   ]
  },
  {
   "cell_type": "code",
   "execution_count": null,
   "metadata": {
    "collapsed": false
   },
   "outputs": [],
   "source": [
    "tica = pipeline.steps[0][1].transform(data)\n",
    "_ = corner.corner(np.vstack(tica)[::100, :])"
   ]
  },
  {
   "cell_type": "markdown",
   "metadata": {},
   "source": [
    "### Clustering results"
   ]
  },
  {
   "cell_type": "code",
   "execution_count": null,
   "metadata": {
    "collapsed": false
   },
   "outputs": [],
   "source": [
    "scatter(*np.vstack(tica)[::100, :2].T, alpha=.3, color='gray')\n",
    "s = np.bincount(np.hstack(pipeline.steps[1][1].labels_))\n",
    "scatter(*pipeline.steps[1][1].cluster_centers_[:, :2].T,\n",
    "        s=1E3*s/s.sum(), alpha=.3, color='red')"
   ]
  },
  {
   "cell_type": "markdown",
   "metadata": {},
   "source": [
    "### MSM results"
   ]
  },
  {
   "cell_type": "markdown",
   "metadata": {},
   "source": [
    "**Plot top five timescales**"
   ]
  },
  {
   "cell_type": "code",
   "execution_count": null,
   "metadata": {
    "collapsed": false
   },
   "outputs": [],
   "source": [
    "lt_range = ss.variables['tica__lag_time']\n",
    "lag_times = np.linspace(lt_range.min, lt_range.max, 20).astype(int)\n",
    "\n",
    "models = []\n",
    "timescales = []\n",
    "for lag_time in lag_times:\n",
    "    model = BayesianMarkovStateModel(verbose=False, n_timescales=5,\n",
    "                                     lag_time=lag_time, ergodic_cutoff=1)\n",
    "    models.append(model.fit(pipeline.steps[1][1].labels_))\n",
    "    timescales.append(model.all_timescales_)\n",
    "timescales = np.array(timescales)\n",
    "\n",
    "figsize(12, 6)\n",
    "for timescale in timescales.T:\n",
    "    _ = fill_between(lag_times, (np.mean(timescale, 0) - 2 * np.std(timescale, 0)),\n",
    "                     (np.mean(timescale, 0) + 2 * np.std(timescale, 0)),\n",
    "                     color='gray', alpha=0.2)\n",
    "    _ = plot(lag_times, np.mean(timescale, 0))\n",
    "\n",
    "xlabel('Lag Time\\n($ns$)', size=14, labelpad=10)\n",
    "ylabel('Relaxation Time ($ns$)', size=14, labelpad=10)\n",
    "yscale('log')"
   ]
  },
  {
   "cell_type": "markdown",
   "metadata": {},
   "source": [
    "**Plot \"best\" timescale**"
   ]
  },
  {
   "cell_type": "code",
   "execution_count": null,
   "metadata": {
    "collapsed": false
   },
   "outputs": [],
   "source": [
    "ts = np.mean(timescales, 1) - 2 * np.std(timescales, 1)\n",
    "tidx = argmax(np.product((np.diff(ts, axis=0) / ts[:-1]) < 0.01, axis=1))\n",
    "lag_time = lag_times[tidx]\n",
    "msm = models[tidx]\n",
    "\n",
    "figsize(2,8)\n",
    "\n",
    "fig, ax = plot_bars(timescales[tidx].mean(0), timescales[tidx].std(0), upper=1E5)\n",
    "ax.set_title('Lag Time: %s $ns$' % lag_time, size=16, y=1.05)"
   ]
  },
  {
   "cell_type": "markdown",
   "metadata": {},
   "source": [
    "**Plot residuals**"
   ]
  },
  {
   "cell_type": "code",
   "execution_count": null,
   "metadata": {
    "collapsed": false
   },
   "outputs": [],
   "source": [
    "sns.jointplot(s[msm.mapping_.keys()]/float(s[msm.mapping_.keys()].sum()),\n",
    "              msm.all_populations_.mean(0), kind='resid')\n",
    "xlabel('Raw Populations', size=16)\n",
    "ylabel('Residuals', size=16)\n",
    "xlim([1E-4, 1])\n",
    "ylim([-1E-2, 1E-2])\n",
    "xscale('log')\n",
    "yscale('symlog')"
   ]
  },
  {
   "cell_type": "markdown",
   "metadata": {},
   "source": [
    "**Plot free energy landscape**"
   ]
  },
  {
   "cell_type": "code",
   "execution_count": null,
   "metadata": {
    "collapsed": false
   },
   "outputs": [],
   "source": [
    "p = msm.all_populations_.mean(0)[np.hstack(msm.transform(pipeline.steps[1][1].labels_))]\n",
    "p /= p.sum()\n",
    "fig, ax = plot_free_energy(np.vstack(tica), p=p)"
   ]
  }
 ],
 "metadata": {
  "kernelspec": {
   "display_name": "Python 2",
   "language": "python",
   "name": "python2"
  },
  "language_info": {
   "codemirror_mode": {
    "name": "ipython",
    "version": 2
   },
   "file_extension": ".py",
   "mimetype": "text/x-python",
   "name": "python",
   "nbconvert_exporter": "python",
   "pygments_lexer": "ipython2",
   "version": "2.7.11"
  }
 },
 "nbformat": 4,
 "nbformat_minor": 0
}
