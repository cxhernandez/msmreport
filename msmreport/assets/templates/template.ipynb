{
 "cells": [
  {
   "cell_type": "markdown",
   "metadata": {},
   "source": [
    "# Osprey Report\n",
    "---"
   ]
  },
  {
   "cell_type": "markdown",
   "metadata": {},
   "source": [
    "### Imports and convenience functions"
   ]
  },
  {
   "cell_type": "code",
   "execution_count": null,
   "metadata": {
    "collapsed": false
   },
   "outputs": [],
   "source": [
    "get_ipython().magic('pylab inline')\n",
    "matplotlib.rcParams['figure.dpi'] = 600\n",
    "\n",
    "import seaborn as sns\n",
    "import corner\n",
    "\n",
    "import json\n",
    "from io import StringIO\n",
    "\n",
    "import numpy as np\n",
    "from pandas import DataFrame, Index\n",
    "from scipy.stats import gaussian_kde\n",
    "\n",
    "from osprey.config import Config\n",
    "from msmbuilder.msm import MarkovStateModel\n",
    "\n",
    "import matplotlib.pyplot as pp\n",
    "import msmexplorer as msme\n",
    "\n",
    "from msmreport.utils import convert_keys_to_string\n",
    "\n",
    "rs = np.random.RandomState(42)"
   ]
  },
  {
   "cell_type": "markdown",
   "metadata": {},
   "source": [
    "### Retrieve osprey settings"
   ]
  },
  {
   "cell_type": "code",
   "execution_count": null,
   "metadata": {
    "collapsed": false
   },
   "outputs": [],
   "source": [
    "config = Config('{yaml}')\n",
    "ss = config.search_space()"
   ]
  },
  {
   "cell_type": "markdown",
   "metadata": {},
   "source": [
    "### Retrieve optimal model parameters"
   ]
  },
  {
   "cell_type": "code",
   "execution_count": null,
   "metadata": {
    "collapsed": false
   },
   "outputs": [],
   "source": [
    "db = config.trials()\n",
    "cmd = 'select parameters from trials_v3 where mean_test_score = (select MAX(mean_test_score) from trials_v3);'\n",
    "query = db.execute(cmd)\n",
    "result = query.fetchall()\n",
    "params = convert_keys_to_string(json.load(StringIO(result[0][0])))\n",
    "DataFrame(np.array(list(params.values()))[argsort(list(params.keys()))], Index(sort(list(params.keys())))).T"
   ]
  },
  {
   "cell_type": "markdown",
   "metadata": {},
   "source": [
    "### Load data and model pipeline"
   ]
  },
  {
   "cell_type": "code",
   "execution_count": null,
   "metadata": {
    "collapsed": false
   },
   "outputs": [],
   "source": [
    "data, labels = config.dataset()\n",
    "\n",
    "pipeline = config.estimator()\n",
    "pipeline.set_params(**params)"
   ]
  },
  {
   "cell_type": "markdown",
   "metadata": {
    "collapsed": true
   },
   "source": [
    "### Fit model"
   ]
  },
  {
   "cell_type": "code",
   "execution_count": null,
   "metadata": {
    "collapsed": false
   },
   "outputs": [],
   "source": [
    "pipeline.fit(data)"
   ]
  },
  {
   "cell_type": "markdown",
   "metadata": {},
   "source": [
    "### tICA results"
   ]
  },
  {
   "cell_type": "code",
   "execution_count": null,
   "metadata": {
    "collapsed": false
   },
   "outputs": [],
   "source": [
    "tica = pipeline.steps[1][1]\n",
    "tica_data = tica.transform(data)\n",
    "_ = msme.plot_histogram(np.concatenate(tica_data, axis=0), color='oxblood', quantiles=(0.5,),\n",
    "                        labels=['$tIC%s$' % i for i in range(tica.n_components)],\n",
    "                        show_titles=True)"
   ]
  },
  {
   "cell_type": "markdown",
   "metadata": {},
   "source": [
    "### Clustering results"
   ]
  },
  {
   "cell_type": "code",
   "execution_count": null,
   "metadata": {
    "collapsed": false
   },
   "outputs": [],
   "source": [
    "_ = msme.plot_voronoi(pipeline.steps[2][1], xlabel='tIC0', ylabel='tIC1', cluster_centers=False)"
   ]
  },
  {
   "cell_type": "markdown",
   "metadata": {},
   "source": [
    "### MSM results"
   ]
  },
  {
   "cell_type": "markdown",
   "metadata": {},
   "source": [
    "**Plot top five timescales**"
   ]
  },
  {
   "cell_type": "code",
   "execution_count": null,
   "metadata": {
    "collapsed": false
   },
   "outputs": [],
   "source": [
    "lt_range = ss.variables['tica__lag_time']\n",
    "lag_times = np.linspace(lt_range.min, lt_range.max, 20).astype(int)\n",
    "\n",
    "models = []\n",
    "timescales = []\n",
    "for lag_time in lag_times:\n",
    "    model = MarkovStateModel(verbose=False, n_timescales=5,\n",
    "                                     lag_time=lag_time, ergodic_cutoff=1)\n",
    "    models.append(model.fit(pipeline.steps[2][1].labels_))\n",
    "    timescales.append(model.timescales_)\n",
    "timescales = np.array(timescales)\n",
    "\n",
    "figsize(12, 6)\n",
    "for timescale in timescales.T:\n",
    "    _ = plot(lag_times, timescale)\n",
    "\n",
    "xlabel('Lag Time\\n($ns$)', size=14, labelpad=10)\n",
    "ylabel('Relaxation Time ($ns$)', size=14, labelpad=10)\n",
    "yscale('log')"
   ]
  },
  {
   "cell_type": "markdown",
   "metadata": {},
   "source": [
    "**Plot \"best\" timescale**"
   ]
  },
  {
   "cell_type": "code",
   "execution_count": null,
   "metadata": {
    "collapsed": false
   },
   "outputs": [],
   "source": [
    "tidx = argmax(np.product((np.diff(timescales, axis=0) / timescales[:-1]) < 0.01, axis=1))\n",
    "lag_time = lag_times[tidx]\n",
    "msm = models[tidx]\n",
    "\n",
    "_ = msme.plot_timescales(msm, ylabel=r'Relaxation Time ($ns$)')"
   ]
  },
  {
   "cell_type": "markdown",
   "metadata": {},
   "source": [
    "**Plot residuals**"
   ]
  },
  {
   "cell_type": "code",
   "execution_count": null,
   "metadata": {
    "collapsed": false
   },
   "outputs": [],
   "source": [
    "_ = msme.plot_pop_resids(msm, color='tarragon')"
   ]
  },
  {
   "cell_type": "markdown",
   "metadata": {},
   "source": [
    "**Plot free energy landscape**"
   ]
  },
  {
   "cell_type": "code",
   "execution_count": null,
   "metadata": {
    "collapsed": false
   },
   "outputs": [],
   "source": [
    "assigns = msm.fit_transform(pipeline.steps[2][1].labels_)\n",
    "pi_0 = msm.populations_[np.concatenate(assigns, axis=0)]\n",
    "\n",
    "\n",
    "# Free Energy Surface\n",
    "obs = (0, 1)\n",
    "ax = msme.plot_free_energy(np.concatenate(tica_data, axis=0),\n",
    "                           obs=obs, n_samples=10000,\n",
    "                           pi=pi_0, gridsize=100, vmax=5.,\n",
    "                           n_levels=8, cut=5, xlabel='tIC0',\n",
    "                           ylabel='tIC1', random_state=rs)\n",
    "\n",
    "# MSM Network\n",
    "pp.scatter(*pipeline.steps[2][1].cluster_centers_[:, obs].T,\n",
    "           s = pipeline.steps[2][1].counts_ / 100.)"
   ]
  }
 ],
 "metadata": {
  "anaconda-cloud": {},
  "kernelspec": {
   "display_name": "Python [default]",
   "language": "python",
   "name": "python3"
  },
  "language_info": {
   "codemirror_mode": {
    "name": "ipython",
    "version": 3
   },
   "file_extension": ".py",
   "mimetype": "text/x-python",
   "name": "python",
   "nbconvert_exporter": "python",
   "pygments_lexer": "ipython3",
   "version": "3.5.2"
  }
 },
 "nbformat": 4,
 "nbformat_minor": 0
}
